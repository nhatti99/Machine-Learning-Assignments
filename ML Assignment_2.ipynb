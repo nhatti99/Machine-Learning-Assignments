{
 "cells": [
  {
   "cell_type": "markdown",
   "metadata": {},
   "source": [
    "# 1. What is the concept of human learning? Please give two examples.\n",
    "\n",
    "It is the form of learning which requires higher order mental processes like thinking, reasoning, intelligence, etc. we learn different concepts from childhood. For example, when we see a dog and attach the term 'dog', we learn that the word dog refers to a particular animal."
   ]
  },
  {
   "cell_type": "markdown",
   "metadata": {},
   "source": [
    "# 2. What different forms of human learning are there? Are there any machine learning equivalents?\n",
    "\n",
    "different forms of human learning : classical conditioning, operant conditioning, and observational learning.\n",
    "    \n",
    "machine learning equivalents : Linear regression, decision trees, random forest and support vector machines."
   ]
  },
  {
   "cell_type": "markdown",
   "metadata": {},
   "source": [
    "# 3. What is machine learning, and how does it work? What are the key responsibilities of machine\n",
    "learning?\n",
    "\n",
    "Machine learning is a data analytics technique that teaches computers to do what comes naturally to humans and animals: learn from experience. Machine learning algorithms use computational methods to “learn” information directly from data without relying on a predetermined equation as a model."
   ]
  },
  {
   "cell_type": "markdown",
   "metadata": {},
   "source": [
    "# 4. Define the terms \"penalty\" and \"reward\" in the context of reinforcement learning.\n",
    "\n",
    "A reinforcement learning algorithm, which may also be referred to as an agent, learns by interacting with its environment. The agent receives rewards by performing correctly and penalties for performing incorrectly. The agent learns without intervention from a human by maximizing its reward and minimizing its penalty."
   ]
  },
  {
   "cell_type": "markdown",
   "metadata": {},
   "source": [
    "# 5. Explain the term \"learning as a search\"?\n",
    "\n",
    "Searching through a large space of hypotheses implicitly defined by the hypothesis representation (same for more general learning). The hypothesis representation defines the space of hypotheses the program can ever represent and therefore can ever learn."
   ]
  },
  {
   "cell_type": "markdown",
   "metadata": {},
   "source": [
    "# 6. What are the various goals of machine learning? What is the relationship between these and\n",
    "human learning?\n",
    "\n",
    "(1) To make the computers smarter, more intelligent. The more direct objective in this aspect is to develop systems (programs) for specific practical learning tasks in application domains. (2) To dev elop computational models of human learning process and perform computer simulations."
   ]
  },
  {
   "cell_type": "markdown",
   "metadata": {},
   "source": [
    "# 7. Illustrate the various elements of machine learning using a real-life illustration.\n",
    "\n",
    "Image recognition. Image recognition is a well-known and widespread example of machine learning in the real world. \n",
    "Speech recognition. Machine learning can translate speech into text. \n",
    "Medical diagnosis. \n",
    "Statistical arbitrage. "
   ]
  },
  {
   "cell_type": "markdown",
   "metadata": {},
   "source": [
    "# 8. Provide an example of the abstraction method.\n",
    "\n",
    "In simple terms, abstraction “displays” only the relevant attributes of objects and “hides” the unnecessary details. For example, when we are driving a car, we are only concerned about driving the car like start/stop the car, accelerate/ break, etc. ... This is a simple example of abstraction."
   ]
  },
  {
   "cell_type": "markdown",
   "metadata": {},
   "source": [
    "# 9. What is the concept of generalization? What function does it play in the machine learning process? What is classification, exactly? \n",
    "\n",
    "Generalization refers to your model's ability to adapt properly to new, previously unseen data, drawn from the same distribution as the one used to create the model."
   ]
  },
  {
   "cell_type": "markdown",
   "metadata": {},
   "source": [
    "# 10. What are the main distinctions between classification and regression?\n",
    "\n",
    "Classification is the task of predicting a discrete class label. Regression is the task of predicting a continuous quantity."
   ]
  },
  {
   "cell_type": "markdown",
   "metadata": {},
   "source": [
    "# 11. What is regression, and how does it work? Give an example of a real-world problem that was solved using regression.\n",
    "\n",
    "Regression is a statistical method used in finance, investing, and other disciplines that attempts to determine the strength and character of the relationship between one dependent variable (usually denoted by Y) and a series of other variables (known as independent variables). Medical researchers often use linear regression to understand the relationship between drug dosage and blood pressure of patients. For example, researchers might administer various dosages of a certain drug to patients and observe how their blood pressure responds."
   ]
  },
  {
   "cell_type": "markdown",
   "metadata": {},
   "source": [
    "# 12. Describe the clustering mechanism in detail.\n",
    "\n",
    "Clustering is the task of dividing the population or data points into a number of groups such that data points in the same groups are more similar to other data points in the same group than those in other groups. In simple words, the aim is to segregate groups with similar traits and assign them into clusters."
   ]
  },
  {
   "cell_type": "markdown",
   "metadata": {},
   "source": [
    "# 13. Make brief observations on two of the following topics:\n",
    "\n",
    "# i. Machine learning algorithms are used\n",
    "# ii. Studying under supervision\n",
    "# iii. Studying without supervision\n",
    "\n",
    "# iv. Reinforcement learning is a form of learning based on positive reinforcement.\n",
    "\n",
    "ii. Supervised learning, also known as supervised machine learning, is a subcategory of machine learning and artificial intelligence. It is defined by its use of labeled datasets to train algorithms that to classify data or predict outcomes accurately.\n",
    "\n",
    "iii. Unsupervised learning is a type of algorithm that learns patterns from untagged data. The hope is that through mimicry."
   ]
  },
  {
   "cell_type": "code",
   "execution_count": null,
   "metadata": {},
   "outputs": [],
   "source": []
  }
 ],
 "metadata": {
  "kernelspec": {
   "display_name": "Python 3",
   "language": "python",
   "name": "python3"
  },
  "language_info": {
   "codemirror_mode": {
    "name": "ipython",
    "version": 3
   },
   "file_extension": ".py",
   "mimetype": "text/x-python",
   "name": "python",
   "nbconvert_exporter": "python",
   "pygments_lexer": "ipython3",
   "version": "3.8.3"
  }
 },
 "nbformat": 4,
 "nbformat_minor": 4
}
